{
  "nbformat": 4,
  "nbformat_minor": 0,
  "metadata": {
    "colab": {
      "provenance": []
    },
    "kernelspec": {
      "name": "python3",
      "display_name": "Python 3"
    },
    "language_info": {
      "name": "python"
    }
  },
  "cells": [
    {
      "cell_type": "markdown",
      "source": [
        "# MUHAMMAD SHERAZ AMAL\n",
        "## 01-134212-130\n",
        "## BSCS\n"
      ],
      "metadata": {
        "id": "A4SXFN0Lu3oe"
      }
    },
    {
      "cell_type": "markdown",
      "source": [
        "# **-->Task 1**"
      ],
      "metadata": {
        "id": "Aaa8nhu1vJJi"
      }
    },
    {
      "cell_type": "code",
      "source": [
        "import numpy as np\n",
        "\n",
        "rows = int(input(\"Enter number of rows: \"))\n",
        "cols = int(input(\"Enter number of columns: \"))\n",
        "\n",
        "print(\"\\nEnter elements of Matrix 1:\")\n",
        "matrix1 = np.array([[int(input()) for _ in range(cols)] for _ in range(rows)])\n",
        "\n",
        "print(\"\\nEnter elements of Matrix 2:\")\n",
        "matrix2 = np.array([[int(input()) for _ in range(cols)] for _ in range(rows)])\n",
        "\n",
        "result = matrix1 + matrix2\n",
        "\n",
        "print(\"\\nResultant Matrix After Addition:\")\n",
        "print(result)\n"
      ],
      "metadata": {
        "colab": {
          "base_uri": "https://localhost:8080/"
        },
        "id": "szpM-TsVzBTo",
        "outputId": "839acf72-bf72-4022-8d2f-1b6e23f90d70"
      },
      "execution_count": 11,
      "outputs": [
        {
          "output_type": "stream",
          "name": "stdout",
          "text": [
            "Enter number of rows: 2\n",
            "Enter number of columns: 2\n",
            "\n",
            "Enter elements of Matrix 1:\n",
            "5\n",
            "5\n",
            "6\n",
            "6\n",
            "\n",
            "Enter elements of Matrix 2:\n",
            "6\n",
            "6\n",
            "5\n",
            "5\n",
            "\n",
            "Resultant Matrix After Addition:\n",
            "[[11 11]\n",
            " [11 11]]\n"
          ]
        }
      ]
    },
    {
      "cell_type": "markdown",
      "source": [
        "# **-->Task 2**"
      ],
      "metadata": {
        "id": "464gEwQJvTZh"
      }
    },
    {
      "cell_type": "code",
      "execution_count": 12,
      "metadata": {
        "colab": {
          "base_uri": "https://localhost:8080/"
        },
        "id": "stUAP4IEuT_y",
        "outputId": "c88ff68e-5993-4245-c4d6-9d741d4f2352"
      },
      "outputs": [
        {
          "output_type": "stream",
          "name": "stdout",
          "text": [
            "Enter number of rows for Matrix 1: 2\n",
            "Enter number of columns for Matrix 1: 2\n",
            "\n",
            "Enter elements of Matrix 1:\n",
            "1\n",
            "2\n",
            "3\n",
            "4\n",
            "\n",
            "Enter number of rows for Matrix 2: 2\n",
            "Enter number of columns for Matrix 2: 2\n",
            "\n",
            "Enter elements of Matrix 2:\n",
            "1\n",
            "2\n",
            "3\n",
            "4\n",
            "\n",
            "Resultant Matrix After Multiplication:\n",
            "[[7, 10], [15, 22]]\n"
          ]
        }
      ],
      "source": [
        "import numpy as np\n",
        "\n",
        "rows1 = int(input(\"Enter number of rows for Matrix 1: \"))\n",
        "cols1 = int(input(\"Enter number of columns for Matrix 1: \"))\n",
        "\n",
        "print(\"\\nEnter elements of Matrix 1:\")\n",
        "matrix1 = np.array([[int(input()) for _ in range(cols1)] for _ in range(rows1)])\n",
        "\n",
        "rows2 = int(input(\"\\nEnter number of rows for Matrix 2: \"))\n",
        "cols2 = int(input(\"Enter number of columns for Matrix 2: \"))\n",
        "\n",
        "print(\"\\nEnter elements of Matrix 2:\")\n",
        "matrix2 = np.array([[int(input()) for _ in range(cols2)] for _ in range(rows2)])\n",
        "\n",
        "if cols1 != rows2:\n",
        "    print(\"\\nError: Given Dimensions Are not same\")\n",
        "else:\n",
        "    result = [[0 for _ in range(cols2)] for _ in range(rows1)]\n",
        "\n",
        "    for i in range(rows1):\n",
        "        for j in range(cols2):\n",
        "            for k in range(cols1):\n",
        "                result[i][j] += matrix1[i][k] * matrix2[k][j]\n",
        "\n",
        "    print(\"\\nResultant Matrix After Multiplication:\")\n",
        "    print(result)\n"
      ]
    },
    {
      "cell_type": "code",
      "source": [],
      "metadata": {
        "id": "MOrBGSPd1Jj5"
      },
      "execution_count": null,
      "outputs": []
    }
  ]
}